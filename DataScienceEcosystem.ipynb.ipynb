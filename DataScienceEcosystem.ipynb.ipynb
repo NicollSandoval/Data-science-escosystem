{
 "cells": [
  {
   "cell_type": "markdown",
   "id": "8d8b5be0-414c-4e7b-948f-253c5e6495d1",
   "metadata": {},
   "source": [
    "# Data Science Tools and Ecosystem"
   ]
  },
  {
   "cell_type": "markdown",
   "id": "2d3d8cdd-c076-43ec-930c-9083b07b9a18",
   "metadata": {},
   "source": [
    "In this notebook, Data Science Tools and Ecosystem are summarized."
   ]
  },
  {
   "cell_type": "markdown",
   "id": "b8ba17c9-5f2c-4a73-bc75-0be40139cf94",
   "metadata": {},
   "source": [
    "Some of the popular languages that Data Scientists use are:\n",
    "1. Python\n",
    "2. R\n",
    "3. SQL"
   ]
  },
  {
   "cell_type": "markdown",
   "id": "eb4cca81-ff2b-49f6-985d-9cd1235a84ac",
   "metadata": {},
   "source": [
    "Some of the commonly used libraries used by Data Scientists include:\n",
    "1. Numpy\n",
    "2. Pandas\n",
    "3. Pandas\n"
   ]
  },
  {
   "cell_type": "markdown",
   "id": "51a121fb-558a-4e38-9cef-b1a3db293f5d",
   "metadata": {},
   "source": [
    "|Data Science Tools|\n",
    "|------------------|\n",
    "|Jupyter Notebook  |\n",
    "|Jupyter Lab       |\n",
    "|RStudio           |"
   ]
  },
  {
   "cell_type": "markdown",
   "id": "fea7d614-f82c-4af7-9427-8ffea30a923d",
   "metadata": {},
   "source": [
    "### Below are a few examples of evaluating arithmetic expressions in Python"
   ]
  },
  {
   "cell_type": "code",
   "execution_count": 14,
   "id": "d39519d8-9f1a-4048-8dab-b78bc8339639",
   "metadata": {},
   "outputs": [
    {
     "name": "stdout",
     "output_type": "stream",
     "text": [
      "17\n"
     ]
    }
   ],
   "source": [
    "#Below are a few examples of evaluating arithmetic expressions in Python\n",
    "result=(3*4)+5\n",
    "print(result)"
   ]
  },
  {
   "cell_type": "code",
   "execution_count": 16,
   "id": "cac36935-6425-4f10-91bd-8bbae5a20830",
   "metadata": {},
   "outputs": [
    {
     "name": "stdout",
     "output_type": "stream",
     "text": [
      "3.3333333333333335\n"
     ]
    }
   ],
   "source": [
    "#his will convert 200 minutes to hours by diving by 60.\n",
    "hours=200/60\n",
    "print(hours)"
   ]
  },
  {
   "cell_type": "markdown",
   "id": "4bbf3363-c6f5-4b61-921f-48612bb6cd50",
   "metadata": {},
   "source": [
    "Objectives:\n",
    "* Learn Data science tools\n",
    "* Learn some of popular languages for data science \n",
    "* Learn about Jupyter Notebooks "
   ]
  },
  {
   "cell_type": "markdown",
   "id": "65061a38-a8fc-4d94-9467-3a3586191b92",
   "metadata": {},
   "source": [
    "## Author\n",
    "Nicoll Sandoval"
   ]
  }
 ],
 "metadata": {
  "kernelspec": {
   "display_name": "anaconda-panel-2023.05-py310",
   "language": "python",
   "name": "conda-env-anaconda-panel-2023.05-py310-py"
  },
  "language_info": {
   "codemirror_mode": {
    "name": "ipython",
    "version": 3
   },
   "file_extension": ".py",
   "mimetype": "text/x-python",
   "name": "python",
   "nbconvert_exporter": "python",
   "pygments_lexer": "ipython3",
   "version": "3.11.5"
  }
 },
 "nbformat": 4,
 "nbformat_minor": 5
}
